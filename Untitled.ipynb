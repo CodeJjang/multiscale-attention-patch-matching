{
 "cells": [
  {
   "cell_type": "code",
   "execution_count": 11,
   "metadata": {},
   "outputs": [],
   "source": [
    "import torch\n",
    "\n",
    "import numpy as np\n",
    "import glob\n",
    "import os\n",
    "\n",
    "from torch import device\n",
    "\n",
    "import torch.nn as nn\n",
    "from tqdm import tqdm\n",
    "import torchfunc\n",
    "\n",
    "# my classes\n",
    "\n",
    "from my_classes import SingleNet, MetricLearningCnn, EvaluateNet, SiamesePairwiseSoftmax, NormalizeImages\n",
    "from read_matlab_imdb import read_matlab_imdb\n",
    "\n",
    "import warnings\n",
    "warnings.filterwarnings(\"ignore\", message=\"UserWarning: albumentations.augmentations.transforms.RandomResizedCrop\")\n",
    "from multiprocessing import Process, freeze_support"
   ]
  },
  {
   "cell_type": "code",
   "execution_count": 15,
   "metadata": {},
   "outputs": [],
   "source": [
    "# Load all datasets\n",
    "\n",
    "FileList = glob.glob(TestDir + \"*street.hdf5\")\n",
    "TestData = dict()\n",
    "for File in FileList:\n",
    "    path, DatasetName = os.path.split(File)\n",
    "    DatasetName = os.path.splitext(DatasetName)[0]\n",
    "\n",
    "    Data = read_matlab_imdb(File)\n",
    "\n",
    "    #x = np.transpose(Data['testData'], (0, 3, 2, 1))\n",
    "    x = Data['Data'].astype(np.float32)\n",
    "    #x = np.reshape(x, (x.shape[0], 1, x.shape[1], x.shape[2], x.shape[3]), order='F')\n",
    "\n",
    "\n",
    "    x[:, :, :, :, 0] -= x[:, :, :, :, 0].mean()\n",
    "    x[:, :, :, :, 1] -= x[:, :, :, :, 1].mean()\n",
    "    x = torch.from_numpy(NormalizeImages(x));\n",
    "\n",
    "    TestLabels = torch.from_numpy(np.squeeze(Data['Labels']))\n",
    "    #TestLabels = torch.from_numpy(2 - Data['testLabels'])\n",
    "# ------------------------------------------------------------------------------------------"
   ]
  },
  {
   "cell_type": "code",
   "execution_count": 21,
   "metadata": {},
   "outputs": [
    {
     "data": {
      "text/plain": [
       "torch.Size([164608, 1, 64, 64, 2])"
      ]
     },
     "execution_count": 21,
     "metadata": {},
     "output_type": "execute_result"
    }
   ],
   "source": [
    "x.shape"
   ]
  },
  {
   "cell_type": "code",
   "execution_count": null,
   "metadata": {},
   "outputs": [],
   "source": []
  }
 ],
 "metadata": {
  "kernelspec": {
   "display_name": "Python 3",
   "language": "python",
   "name": "python3"
  },
  "language_info": {
   "codemirror_mode": {
    "name": "ipython",
    "version": 3
   },
   "file_extension": ".py",
   "mimetype": "text/x-python",
   "name": "python",
   "nbconvert_exporter": "python",
   "pygments_lexer": "ipython3",
   "version": "3.7.4"
  }
 },
 "nbformat": 4,
 "nbformat_minor": 2
}
